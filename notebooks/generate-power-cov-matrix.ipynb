{
 "cells": [
  {
   "cell_type": "code",
   "execution_count": 1,
   "metadata": {},
   "outputs": [],
   "source": [
    "import numpy as np\n",
    "import os\n",
    "import sys\n",
    "\n",
    "module_path = os.path.abspath(os.path.join(\"../lib\"))\n",
    "if module_path not in sys.path:\n",
    "    sys.path.append(module_path)\n",
    "    \n",
    "from pk_tools import pk_tools\n",
    "from shrinkage_estimators import NERCOME"
   ]
  },
  {
   "cell_type": "code",
   "execution_count": 2,
   "metadata": {},
   "outputs": [],
   "source": [
    "def get_fit_selection(krange, kmin = 0.0, kmax = 0.4, pole_selection = [True, True, True, True, True]):\n",
    "    k_fit_selection = np.logical_and(kmin<=krange,krange<=kmax)\n",
    "    pole_fit_selection = np.repeat(pole_selection, len(krange)/len(pole_selection))\n",
    "    fit_selection = k_fit_selection * pole_fit_selection\n",
    "    \n",
    "    return fit_selection"
   ]
  },
  {
   "cell_type": "code",
   "execution_count": 3,
   "metadata": {},
   "outputs": [
    {
     "name": "stdout",
     "output_type": "stream",
     "text": [
      "(30, 100)\n"
     ]
    }
   ],
   "source": [
    "data_path = \"../data/BOSS_DR12_NGC_z1/Patchy_V6C_BOSS_DR12_NGC_z1\"\n",
    "all_filenames = os.listdir(data_path)\n",
    "\n",
    "p = 30\n",
    "n = 100\n",
    "indices = np.random.choice(len(all_filenames), n, replace=False)\n",
    "filenames = np.array(all_filenames)[indices]\n",
    "\n",
    "# Empty power spectrum matrix\n",
    "P = np.empty((p, len(filenames)))\n",
    "\n",
    "i = 0;\n",
    "for filename in filenames:\n",
    "    # Load the data using Beutler's pk_tools module \n",
    "    data = pk_tools.read_power(os.path.join(data_path, filename), combine_bins=10)\n",
    "    kbins, pk_data_vector = pk_tools.dict_to_vec(data)\n",
    "    \n",
    "    fit_selection = get_fit_selection(kbins, kmin=0.0, kmax=0.1, pole_selection=[True, False, True, False, True])\n",
    "    fit_pk_data_vector = pk_data_vector[fit_selection]\n",
    "\n",
    "    P[:,i] = fit_pk_data_vector\n",
    "    i += 1\n",
    "\n",
    "print(P.shape)"
   ]
  },
  {
   "cell_type": "code",
   "execution_count": 4,
   "metadata": {},
   "outputs": [],
   "source": [
    "def linear_shrinkage(P):\n",
    "    P_mean = np.sum(P, axis=1)/n # Find mean of each row\n",
    "    P_mean_matrix = np.tile(P_mean, (n, 1)).T # Repeat mean values as columns in a p x n matrix\n",
    "    X = P - P_mean_matrix\n",
    "\n",
    "    W = []\n",
    "    # Generate W array (which is 3D) of size (n, p, p), order of indices (k, i, j)\n",
    "    for k in range(n):\n",
    "        w = X[:,k]\n",
    "        W.append(np.outer(w, w))\n",
    "    W_mean = np.sum(W, axis=0)/n\n",
    "\n",
    "    # Emperically estimated covariance matrix\n",
    "    S = n / (n-1) * W_mean\n",
    "    \n",
    "    # Take as Target the diagonal elements of the sample cov matrix\n",
    "    T = np.diag(np.diag(S))\n",
    "    \n",
    "    W_mean_rep = np.tile(W_mean, (n, 1, 1))\n",
    "    V = W - W_mean_rep\n",
    "    # Compute variance of elements of the covariance matrix\n",
    "    Var = n / (n-1)**3 * np.sum(V**2, axis=0)\n",
    "\n",
    "    # Compute estimated shrinkage intensity parameter lambda\n",
    "    lmbda_est = np.sum(Var-np.diag(np.diag(Var))) / np.sum((T-S)**2)\n",
    "    \n",
    "    # Restrict shrinkage intensity to interval [0,1]\n",
    "    if lmbda_est < 0:\n",
    "        lmbda_est = 0\n",
    "    elif lmbda_est > 1:\n",
    "        lmbda_est = 1\n",
    "\n",
    "    # Compute shrinkage covariance matrix\n",
    "    cov_shrinkage = lmbda_est*T + (1-lmbda_est)*S\n",
    "    \n",
    "    return cov_shrinkage, lmbda_est"
   ]
  },
  {
   "cell_type": "code",
   "execution_count": 5,
   "metadata": {},
   "outputs": [],
   "source": [
    "C_nercome, S, s_min = NERCOME.NERCOME(P, all_splits=True)\n",
    "C_shrinkage, lmbda_est = linear_shrinkage(P)"
   ]
  },
  {
   "cell_type": "code",
   "execution_count": 6,
   "metadata": {},
   "outputs": [],
   "source": [
    "np.savetxt(f\"../data/BOSS_DR12_NGC_z1/BOSS_DR12_NGC_z1_cov/BOSS_DR12_NGC_z1_cov_{p}_{p}_sample_{n}.matrix\", S)\n",
    "np.savetxt(f\"../data/BOSS_DR12_NGC_z1/BOSS_DR12_NGC_z1_cov/BOSS_DR12_NGC_z1_cov_{p}_{p}_NERCOME_{n}.matrix\", C_nercome, header=f\"s={s_min}\")\n",
    "np.savetxt(f\"../data/BOSS_DR12_NGC_z1/BOSS_DR12_NGC_z1_cov/BOSS_DR12_NGC_z1_cov_{p}_{p}_shrinkage_{n}.matrix\", C_shrinkage, header=f\"lambda={lmbda_est}\")"
   ]
  },
  {
   "cell_type": "code",
   "execution_count": 7,
   "metadata": {},
   "outputs": [
    {
     "name": "stdout",
     "output_type": "stream",
     "text": [
      "82\n",
      "0.492365075525228\n"
     ]
    }
   ],
   "source": [
    "print(s_min)\n",
    "print(lmbda_est)"
   ]
  },
  {
   "cell_type": "code",
   "execution_count": null,
   "metadata": {},
   "outputs": [],
   "source": []
  }
 ],
 "metadata": {
  "kernelspec": {
   "display_name": "Python 3 (ipykernel)",
   "language": "python",
   "name": "python3"
  },
  "language_info": {
   "codemirror_mode": {
    "name": "ipython",
    "version": 3
   },
   "file_extension": ".py",
   "mimetype": "text/x-python",
   "name": "python",
   "nbconvert_exporter": "python",
   "pygments_lexer": "ipython3",
   "version": "3.8.13"
  }
 },
 "nbformat": 4,
 "nbformat_minor": 4
}
